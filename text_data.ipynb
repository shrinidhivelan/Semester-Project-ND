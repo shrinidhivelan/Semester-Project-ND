{
 "cells": [
  {
   "cell_type": "markdown",
   "metadata": {},
   "source": [
    "### Text analysis"
   ]
  },
  {
   "cell_type": "code",
   "execution_count": null,
   "metadata": {},
   "outputs": [],
   "source": [
    "#### The necessary installation for text analysis :\n",
    "conda install nltk gensim spacy\n",
    "pip install pyLDAvis \n",
    "pip install vaderSentiment  \n",
    "pip install empath\n",
    "python -m spacy download en  \n",
    "python -m nltk.downloader punkt \n",
    "python -m nltk.downloader all-corpora "
   ]
  }
 ],
 "metadata": {
  "kernelspec": {
   "display_name": "ObjectDetection",
   "language": "python",
   "name": "python3"
  },
  "language_info": {
   "name": "python",
   "version": "3.9.20"
  }
 },
 "nbformat": 4,
 "nbformat_minor": 2
}
