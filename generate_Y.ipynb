{
 "cells": [
  {
   "cell_type": "code",
   "execution_count": 1,
   "metadata": {},
   "outputs": [],
   "source": [
    "from nilearn.input_data import NiftiLabelsMasker, NiftiMasker\n",
    "from nilearn import datasets, image, masking\n",
    "import numpy as np\n",
    "import nibabel as nib\n"
   ]
  },
  {
   "cell_type": "code",
   "execution_count": 5,
   "metadata": {},
   "outputs": [
    {
     "data": {
      "text/plain": [
       "(555, 216990)"
      ]
     },
     "execution_count": 5,
     "metadata": {},
     "output_type": "execute_result"
    }
   ],
   "source": [
    "Y = np.load('/Volumes/LaCie/EPFL/Mastersem3/SemesterProjectND/Y/sub2/After_The_Rain/Y_voxel_time_series.npy')\n",
    "Y.shape"
   ]
  },
  {
   "cell_type": "code",
   "execution_count": 3,
   "metadata": {},
   "outputs": [],
   "source": [
    "anat_img = image.load_img(\"/Volumes/LaCie/EPFL/Mastersem3/SemesterProjectND/irmf/derivatives/preprocessing/sub-S02/ses-2/anat/sub-S02_ses-2_space-subject_desc-anat_bold.nii.gz\")\n"
   ]
  },
  {
   "cell_type": "code",
   "execution_count": null,
   "metadata": {},
   "outputs": [],
   "source": [
    "\"\"\" \n",
    "# Load an atlas : This fetches the Harvard-Oxford cortical atlas, which divides the brain into regions of interest (ROIs).\n",
    "Key output:\n",
    "atlas.maps: A NIfTI file with labeled brain regions (each voxel is assigned a region number).\n",
    "atlas.labels: A list of region names corresponding to the region numbers.\n",
    "Example:\n",
    "Region 1 = Frontal Pole, Region 2 = Insular Cortex, etc.\n",
    "\"\"\"\n",
    "\n",
    "atlas = datasets.fetch_atlas_harvard_oxford('cort-maxprob-thr25-1mm')\n",
    "\n",
    "\n",
    "# Initialize the masker : This masker uses the atlas to identify voxels that belong to regions in question\n",
    "# standardize = True : Normalizes the time series within each region to have a mean of 0 and a standard deviation of 1. \n",
    "# This removes baseline signal differences and improves comparability between regions.\n",
    "masker = NiftiLabelsMasker(labels_img=atlas.maps, standardize=True)\n",
    "\n",
    "\n",
    "### All of this is done for \n",
    "\n",
    "# Extract regional time-series\n",
    "region_time_series = masker.fit_transform('smoothed_fmri.nii.gz')"
   ]
  },
  {
   "cell_type": "markdown",
   "metadata": {},
   "source": [
    "# There are different ways to take our matrix Y "
   ]
  },
  {
   "cell_type": "markdown",
   "metadata": {},
   "source": [
    "## 1) Take the matrix Y according to different regions of the brain "
   ]
  },
  {
   "cell_type": "markdown",
   "metadata": {},
   "source": [
    "### The result is a time series matrix with shape : (n time points, n regions)\n",
    "An atlas in the context of neuroimaging is a standardized reference map of the brain that divides it into regions or parcels based on anatomical, functional, or statistical criteria. These regions are used to label and analyze specific areas of the brain in a consistent and interpretable way.\n",
    "\n",
    "\n",
    "The number of regions corresponds to the number of labels in the atlas data \n",
    "\n",
    "\n",
    "TR (Repetition time) = 1.9 s\n",
    "- In order to sync the fmri data ($Y$) with the features (design matrix) ($X$, i.e : $X_1,...X_n$ if n features), the fmri data must be set 4 TRs after the movie frame is set. \n",
    "\n",
    "TE (Echo Time) = 2.27ms\n",
    "\n",
    "Flip Angle = 9 degrees is the angle at which the RF pulse tips the magnetic moment of protons in the tissue. It influences signal intensity and the amount of tissue contrast."
   ]
  },
  {
   "cell_type": "code",
   "execution_count": null,
   "metadata": {},
   "outputs": [
    {
     "data": {
      "text/plain": [
       "(528, 48)"
      ]
     },
     "execution_count": 10,
     "metadata": {},
     "output_type": "execute_result"
    }
   ],
   "source": [
    "# Each row of the region_time_series corresponds to the BOLD signal for all regions at a particular time point.\n",
    "# Each column represents the BOLD signal for a specific brain region defined by the atlas you applied \n",
    "#       (e.g., the Harvard-Oxford cortical atlas).\n",
    "\n",
    "region_time_series.shape"
   ]
  },
  {
   "cell_type": "code",
   "execution_count": 7,
   "metadata": {},
   "outputs": [
    {
     "name": "stdout",
     "output_type": "stream",
     "text": [
      "Number of regions: 49\n",
      "Regions: ['Background', 'Frontal Pole', 'Insular Cortex', 'Superior Frontal Gyrus', 'Middle Frontal Gyrus', 'Inferior Frontal Gyrus, pars triangularis', 'Inferior Frontal Gyrus, pars opercularis', 'Precentral Gyrus', 'Temporal Pole', 'Superior Temporal Gyrus, anterior division', 'Superior Temporal Gyrus, posterior division', 'Middle Temporal Gyrus, anterior division', 'Middle Temporal Gyrus, posterior division', 'Middle Temporal Gyrus, temporooccipital part', 'Inferior Temporal Gyrus, anterior division', 'Inferior Temporal Gyrus, posterior division', 'Inferior Temporal Gyrus, temporooccipital part', 'Postcentral Gyrus', 'Superior Parietal Lobule', 'Supramarginal Gyrus, anterior division', 'Supramarginal Gyrus, posterior division', 'Angular Gyrus', 'Lateral Occipital Cortex, superior division', 'Lateral Occipital Cortex, inferior division', 'Intracalcarine Cortex', 'Frontal Medial Cortex', 'Juxtapositional Lobule Cortex (formerly Supplementary Motor Cortex)', 'Subcallosal Cortex', 'Paracingulate Gyrus', 'Cingulate Gyrus, anterior division', 'Cingulate Gyrus, posterior division', 'Precuneous Cortex', 'Cuneal Cortex', 'Frontal Orbital Cortex', 'Parahippocampal Gyrus, anterior division', 'Parahippocampal Gyrus, posterior division', 'Lingual Gyrus', 'Temporal Fusiform Cortex, anterior division', 'Temporal Fusiform Cortex, posterior division', 'Temporal Occipital Fusiform Cortex', 'Occipital Fusiform Gyrus', 'Frontal Opercular Cortex', 'Central Opercular Cortex', 'Parietal Opercular Cortex', 'Planum Polare', \"Heschl's Gyrus (includes H1 and H2)\", 'Planum Temporale', 'Supracalcarine Cortex', 'Occipital Pole']\n"
     ]
    }
   ],
   "source": [
    "# Print region names and number of regions\n",
    "print(f\"Number of regions: {len(atlas.labels)}\")\n",
    "print(\"Regions:\", atlas.labels)"
   ]
  },
  {
   "cell_type": "code",
   "execution_count": null,
   "metadata": {},
   "outputs": [],
   "source": [
    "\n",
    "\n",
    "# Save the region_time_series array\n",
    "np.save('region_time_series.npy', region_time_series)\n",
    "\n",
    "region_time_series2 = np.load('region_time_series.npy')\n"
   ]
  },
  {
   "cell_type": "markdown",
   "metadata": {},
   "source": [
    "## 2) Take the matrix Y according to voxels as Individual Observations (Voxel-level Analysis)"
   ]
  },
  {
   "cell_type": "markdown",
   "metadata": {},
   "source": [
    "### a) Generate a brain mask"
   ]
  },
  {
   "cell_type": "code",
   "execution_count": null,
   "metadata": {},
   "outputs": [],
   "source": [
    "\n",
    "# Load your anatomical MRI image (replace the file path as needed)\n",
    "anat_img = image.load_img('/Volumes/LaCie/EPFL/Master sem3/Semester Project ND/irmf/derivatives/preprocessing/sub-S01/ses-1/anat/sub-S01_ses-1_space-subject_desc-anat_bold.nii.gz')\n",
    "\n",
    "# Create a brain mask using nilearn's masking function\n",
    "brain_mask = masking.compute_brain_mask(anat_img)\n",
    "\n",
    "# Check the shape of the brain mask\n",
    "print(f\"Brain mask shape: {brain_mask.shape}\")\n",
    "\n",
    "# Save the brain mask to a file (optional)\n",
    "brain_mask.to_filename('brain_mask.nii.gz')\n"
   ]
  },
  {
   "cell_type": "code",
   "execution_count": null,
   "metadata": {},
   "outputs": [],
   "source": [
    "fmri_img = nib.load('smoothed_fmri.nii.gz')\n",
    "print(f\"Shape of fMRI data: {fmri_img.shape}\")\n",
    "\n",
    "brain_mask = nib.load('brain_mask.nii.gz')\n",
    "print(f\"Brain mask shape: {brain_mask.shape}\")\n",
    "\n",
    "\n",
    "# Resample the brain mask to match the fMRI image's spatial dimensions\n",
    "resampled_brain_mask = image.resample_to_img(brain_mask, fmri_img, interpolation='nearest')\n",
    "\n",
    "\n",
    "print(f\"Resampled brain mask shape: {resampled_brain_mask.shape}\")"
   ]
  },
  {
   "cell_type": "code",
   "execution_count": null,
   "metadata": {},
   "outputs": [],
   "source": [
    "brain_mask = nib.load('brain_mask.nii.gz')\n",
    "\n",
    "# Load the full brain or selected voxel data\n",
    "full_fmri_data = 'smoothed_fmri.nii.gz'  # This should be a 4D fMRI image\n",
    "\n",
    "masker = NiftiMasker(mask_img=resampled_brain_mask, standardize=True)\n",
    "\n",
    "voxel_time_series = masker.fit_transform(full_fmri_data)\n",
    "\n",
    "# Y would be voxel_time_series here\n"
   ]
  },
  {
   "cell_type": "code",
   "execution_count": 8,
   "metadata": {},
   "outputs": [
    {
     "data": {
      "text/plain": [
       "(528, 216949)"
      ]
     },
     "execution_count": 8,
     "metadata": {},
     "output_type": "execute_result"
    }
   ],
   "source": [
    "voxel_time_series.shape"
   ]
  },
  {
   "cell_type": "code",
   "execution_count": 9,
   "metadata": {},
   "outputs": [],
   "source": [
    "np.save('voxel_time_series.npy', voxel_time_series)"
   ]
  },
  {
   "cell_type": "markdown",
   "metadata": {},
   "source": [
    "## 3) While applying ICA - to find the independent components to represent as our Y matrix"
   ]
  },
  {
   "cell_type": "code",
   "execution_count": 10,
   "metadata": {},
   "outputs": [
    {
     "name": "stderr",
     "output_type": "stream",
     "text": [
      "/Users/shrinidhivelan/miniconda3/envs/neuroimaging/lib/python3.9/site-packages/sklearn/decomposition/_fastica.py:128: ConvergenceWarning: FastICA did not converge. Consider increasing tolerance or the maximum number of iterations.\n",
      "  warnings.warn(\n"
     ]
    }
   ],
   "source": [
    "from sklearn.decomposition import FastICA\n",
    "from nilearn.input_data import NiftiMasker\n",
    "\n",
    "# Mask the fMRI data to focus on the brain\n",
    "masker = NiftiMasker(mask_img=brain_mask, standardize=True)\n",
    "#voxel_time_series = masker.fit_transform('smoothed_fmri.nii.gz')\n",
    "\n",
    "# Apply ICA to find independent components\n",
    "ica = FastICA(n_components=10)  # Number of components to retain\n",
    "ica_time_series = ica.fit_transform(voxel_time_series)\n",
    "\n",
    "# ica_time_series is your Y representing the independent components over time"
   ]
  },
  {
   "cell_type": "code",
   "execution_count": 12,
   "metadata": {},
   "outputs": [],
   "source": [
    "np.save('Y/ica_10.npy', ica_time_series)"
   ]
  }
 ],
 "metadata": {
  "kernelspec": {
   "display_name": "ObjectDetection",
   "language": "python",
   "name": "python3"
  },
  "language_info": {
   "codemirror_mode": {
    "name": "ipython",
    "version": 3
   },
   "file_extension": ".py",
   "mimetype": "text/x-python",
   "name": "python",
   "nbconvert_exporter": "python",
   "pygments_lexer": "ipython3",
   "version": "3.9.20"
  }
 },
 "nbformat": 4,
 "nbformat_minor": 2
}
